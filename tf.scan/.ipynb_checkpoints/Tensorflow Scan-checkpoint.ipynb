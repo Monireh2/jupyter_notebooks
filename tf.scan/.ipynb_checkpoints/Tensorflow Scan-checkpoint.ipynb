{
 "cells": [
  {
   "cell_type": "markdown",
   "metadata": {},
   "source": [
    "# How to use a single value to update multiple tensors with scan in TensorFlow\n",
    "I assume that you have TensorFlow that you want to update with a sequence such that you will be using the previous values of the tensor at each update. E.g. you have a neural network that you'd like to update with a point at time t in a sequence and values from the network at time t-1. If you want to see this in full-fledged use, look at my other blog post where I recreate the Variational Recurrent Neural Network!\n",
    "\n",
    "This is the [definition of scan](https://www.tensorflow.org/api_docs/python/tf/scan):\n",
    "```\n",
    "tf.scan(\n",
    "    fn,\n",
    "    elems,\n",
    "    initializer=None,\n",
    "    parallel_iterations=10,\n",
    "    back_prop=True,\n",
    "    swap_memory=False,\n",
    "    infer_shape=True,\n",
    "    name=None\n",
    ")\n",
    "```\n",
    "fn should follow the form `fn(parameter_that_changes,parameter_you_change_with)`. This means that you can assume that your input from elem will always go to `parameter_you_change_with`, and that what you return should be `parameter_that_changes`.\n",
    "Writing it like a function looks something like the following\n",
    "```\n",
    "def fn(x, elem):\n",
    "    return new_x\n",
    "```\n",
    "where `new_x` will be `x` the next time `fn` is called. That took me some time to figure out."
   ]
  },
  {
   "cell_type": "code",
   "execution_count": 2,
   "metadata": {
    "collapsed": true
   },
   "outputs": [],
   "source": [
    "import tensorflow as tf\n",
    "import numpy as np"
   ]
  },
  {
   "cell_type": "code",
   "execution_count": 3,
   "metadata": {},
   "outputs": [
    {
     "name": "stdout",
     "output_type": "stream",
     "text": [
      "[ 2  8 14 22 27]\n"
     ]
    }
   ],
   "source": [
    "# Super Simple scan example as per: https://stackoverflow.com/questions/43841782/scan-function-in-theano-and-tensorflow\n",
    "def f(x, ys):\n",
    "  (y1, y2) = ys\n",
    "  return x + y1 * y2\n",
    "\n",
    "a = tf.constant([1, 2, 3, 4, 5])\n",
    "b = tf.constant([2, 3, 2, 2, 1])\n",
    "c = tf.scan(f, (a, b), initializer=0)\n",
    "with tf.Session() as sess:\n",
    "      print(sess.run(c))"
   ]
  },
  {
   "cell_type": "code",
   "execution_count": 6,
   "metadata": {
    "scrolled": true
   },
   "outputs": [
    {
     "name": "stdout",
     "output_type": "stream",
     "text": [
      "[array([[1, 1],\n",
      "       [3, 3],\n",
      "       [6, 6]], dtype=int32), array([[ 3,  3],\n",
      "       [ 7,  7],\n",
      "       [13, 13]], dtype=int32), array([[ 5,  5],\n",
      "       [11, 11],\n",
      "       [20, 20]], dtype=int32)]\n"
     ]
    }
   ],
   "source": [
    "# updating 3 tensors with a single sequence\n",
    "a1 = tf.Variable([0,0])\n",
    "a2 = tf.Variable([1,1])\n",
    "a3 = tf.Variable([2,2])\n",
    "\n",
    "sequence = tf.Variable([1,2,3])\n",
    "\n",
    "# using tf.multiply istead of '*', e.g. tf.multiply(x,2) instead of 2*x was key to this working...\n",
    "def replace_one(old, x):\n",
    "    a1, a2, a3 = old\n",
    "    a1 = tf.add(a1,tf.multiply(x,1))\n",
    "    a2 = tf.add(a2,tf.multiply(x,2))\n",
    "    a3 = tf.add(a3,tf.multiply(x,3))\n",
    "\n",
    "    return [a1,a2,a3]\n",
    "\n",
    "# key things that worked: initializer needed to match output type (e.g. most be lists or tuples). \n",
    "# dumb mistake I can see tripping up many people\n",
    "update = tf.scan(replace_one, sequence, initializer=[a1, a2, a3])\n",
    "\n",
    "a1 = a1.assign(a2)\n",
    "with tf.Session() as sess:\n",
    "    sess.run(tf.global_variables_initializer())\n",
    "    print(sess.run(update))\n",
    "\n"
   ]
  },
  {
   "cell_type": "markdown",
   "metadata": {},
   "source": [
    "# A few notes\n",
    "So this ws more difficult to implement than I expected. I had to get all the ingredients perfectly right. \n",
    "* While I can assign outside of scan, for some reason the tensors a1, a2, a3 couldn't be assigned, i.e. `a1.assign(tf.add(a1,tf.multiply(x,1)))`, inside of scan\n",
    "* You can have all your values inside a single tensor for the initializer and update them via indexing. This also doesn't work. i.e. with `T=tf.concat([a1,a2,a3])`, you can't do `T[0]=x`\n",
    "* I spent a long time trying to manually concatonate the values so that I could track them in the future only to learn that scan does this by default!! E.g., for a1, the corresponding output vector is `[a1+1, a1+1+2, a1+1+2+3]` since the elements were `[1,2,3]`.\n",
    "\n",
    "### Hope you found this useful !!"
   ]
  }
 ],
 "metadata": {
  "kernelspec": {
   "display_name": "Python 3",
   "language": "python",
   "name": "python3"
  },
  "language_info": {
   "codemirror_mode": {
    "name": "ipython",
    "version": 3
   },
   "file_extension": ".py",
   "mimetype": "text/x-python",
   "name": "python",
   "nbconvert_exporter": "python",
   "pygments_lexer": "ipython3",
   "version": "3.5.3"
  }
 },
 "nbformat": 4,
 "nbformat_minor": 2
}
