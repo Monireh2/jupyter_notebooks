{
 "cells": [
  {
   "cell_type": "code",
   "execution_count": null,
   "metadata": {
    "collapsed": true
   },
   "outputs": [],
   "source": [
    "# made from https://cs224d.stanford.edu/lectures/CS224d-Lecture7.pdf"
   ]
  },
  {
   "cell_type": "code",
   "execution_count": 6,
   "metadata": {},
   "outputs": [],
   "source": [
    "import numpy as np\n",
    "import seaborn\n",
    "import matplotlib.pyplot as plt\n",
    "import tensorflow as tf\n",
    "%matplotlib inline"
   ]
  },
  {
   "cell_type": "code",
   "execution_count": 7,
   "metadata": {},
   "outputs": [],
   "source": [
    "# define input data\n",
    "data_range = 100\n",
    "steps = .1\n",
    "npoints = int(data_range/steps)\n",
    "# set original data\n",
    "x_data_o = np.arange(data_range, step=steps)\n",
    "y_data_o = x_data_o + 20 *np.sin(x_data_o/10)"
   ]
  },
  {
   "cell_type": "code",
   "execution_count": 8,
   "metadata": {
    "scrolled": true
   },
   "outputs": [
    {
     "data": {
      "text/plain": [
       "[<matplotlib.lines.Line2D at 0x11111de80>]"
      ]
     },
     "execution_count": 8,
     "metadata": {},
     "output_type": "execute_result"
    },
    {
     "data": {
      "image/png": "[encoded data removed]",
      "text/plain": [
       "<matplotlib.figure.Figure at 0x10d322400>"
      ]
     },
     "metadata": {},
     "output_type": "display_data"
    }
   ],
   "source": [
    "# plot input data\n",
    "plt.plot (x_data_o, y_data_o)"
   ]
  },
  {
   "cell_type": "code",
   "execution_count": 9,
   "metadata": {
    "collapsed": true
   },
   "outputs": [],
   "source": [
    "# define data size and batch size\n",
    "n_samples = npoints\n",
    "batch_size = 200"
   ]
  },
  {
   "cell_type": "code",
   "execution_count": 10,
   "metadata": {},
   "outputs": [],
   "source": [
    "# Tensorflow is finicky about shapes, so resize\n",
    "x_data = np.reshape(x_data_o, (n_samples,1))\n",
    "y_data = np.reshape(y_data_o, (n_samples,1))"
   ]
  },
  {
   "cell_type": "code",
   "execution_count": 11,
   "metadata": {},
   "outputs": [],
   "source": [
    "# Define placeholders for input\n",
    "X = tf.placeholder(tf.float32, shape=(batch_size, 1))\n",
    "y = tf.placeholder(tf.float32, shape=(batch_size, 1)) "
   ]
  },
  {
   "cell_type": "code",
   "execution_count": 12,
   "metadata": {},
   "outputs": [],
   "source": [
    "# Define variables to be learned\n",
    "def get_w_b():\n",
    "    W = tf.get_variable(\"weights\", (1, 1),\n",
    "                        initializer=tf.random_normal_initializer())\n",
    "    b = tf.get_variable(\"bias\", (1,),\n",
    "                    initializer=tf.constant_initializer(0.0))\n",
    "    return W, b\n",
    "\n",
    "with tf.variable_scope(\"linear-regression\"):\n",
    "    try:\n",
    "        W, b = get_w_b();\n",
    "    except ValueError:\n",
    "        tf.get_variable_scope().reuse_variables()\n",
    "        W, b = get_w_b();\n",
    "    y_pred = tf.matmul(X, W) + b\n",
    "    loss = tf.reduce_sum((y - y_pred)**2/n_samples)"
   ]
  },
  {
   "cell_type": "markdown",
   "metadata": {
    "slideshow": {
     "slide_type": "-"
    }
   },
   "source": [
    "From math perspective, right now, we're essentially trying to minimize\n",
    "\n",
    "$$\n",
    "\\frac{1}{N}\\sum^N_{i=1}(y_i-(W x_i + b))^2\n",
    "$$\n",
    "where $$ y_{pred} = (W x_i + b) $$ and N=`batch_size`. We are iteratively minimizing the function on `batch_size` $$(x_i,y_i)$$ pairs.\n",
    "\n",
    "(p.s., you can read more about `tf.reduce_sum()` [here](https://www.tensorflow.org/api_docs/python/math_ops/reduction#reduce_sum) - I needed to)"
   ]
  },
  {
   "cell_type": "code",
   "execution_count": 13,
   "metadata": {
    "collapsed": true
   },
   "outputs": [],
   "source": [
    "# Define the optimizer\n",
    "optimizer = tf.train.AdamOptimizer()\n",
    "# Define the optimization operation\n",
    "minimize_operation = optimizer.minimize(loss)"
   ]
  },
  {
   "cell_type": "code",
   "execution_count": 14,
   "metadata": {},
   "outputs": [],
   "source": [
    "def get_batch(x_data, y_data):\n",
    "    indices = np.random.choice(x_data.shape[0], batch_size)\n",
    "    x_batch, y_batch = x_data[indices], y_data[indices]\n",
    "    # again, Tensorflow is finnicky about shapes...\n",
    "    # without will get: ValueError: Cannot feed value of shape (200,) for Tensor 'Placeholder_1:0', which has shape '(200, 1)\n",
    "    x_batch = np.reshape(x_batch, (batch_size,1))\n",
    "    y_batch = np.reshape(y_batch, (batch_size,1))\n",
    "    return x_batch, y_batch\n",
    "\n",
    "# A single gradient descent operation\n",
    "with tf.Session() as sess:\n",
    "    sess.run(tf.global_variables_initializer())\n",
    "    # Select random minibatch\n",
    "    x_batch, y_batch = get_batch(x_data, y_data)\n",
    "    sess.run([minimize_operation], feed_dict={X: x_batch, y: y_batch})"
   ]
  },
  {
   "cell_type": "code",
   "execution_count": 15,
   "metadata": {},
   "outputs": [],
   "source": [
    "# Full gradient descent for 500 epochs\n",
    "# Here we also compute and return the loss\n",
    "losses = []\n",
    "epochs=1000\n",
    "with tf.Session() as sess:\n",
    "    # Initialize Variables in graph\n",
    "    sess.run(tf.global_variables_initializer())\n",
    "    # Gradient descent loop for 500 steps\n",
    "    for _ in range(epochs):\n",
    "        # Select random minibatch\n",
    "        x_batch, y_batch = get_batch(x_data, y_data)\n",
    "        # Do gradient descent step\n",
    "        _, loss_val = sess.run([minimize_operation, loss], feed_dict={X: x_batch, y: y_batch})\n",
    "        losses.append(loss_val)\n",
    "    with tf.variable_scope(\"linear-regression\", reuse=True):\n",
    "        W, b = tf.get_variable(\"weights\"), tf.get_variable(\"bias\")\n",
    "        # need to .eval() to get the tensor values\n",
    "        weights = np.array(W.eval())\n",
    "        bias = np.array(b.eval())"
   ]
  },
  {
   "cell_type": "code",
   "execution_count": 16,
   "metadata": {},
   "outputs": [
    {
     "data": {
      "text/plain": [
       "[<matplotlib.lines.Line2D at 0x1114eaac8>]"
      ]
     },
     "execution_count": 16,
     "metadata": {},
     "output_type": "execute_result"
    },
    {
     "data": {
      "image/png": "[encoded data removed]",
      "text/plain": [
       "<matplotlib.figure.Figure at 0x1114ddc18>"
      ]
     },
     "metadata": {},
     "output_type": "display_data"
    }
   ],
   "source": [
    "# print the training loss\n",
    "plt.plot (np.arange(epochs), np.array(losses))"
   ]
  },
  {
   "cell_type": "code",
   "execution_count": 17,
   "metadata": {},
   "outputs": [
    {
     "data": {
      "text/plain": [
       "<matplotlib.legend.Legend at 0x111820eb8>"
      ]
     },
     "execution_count": 17,
     "metadata": {},
     "output_type": "execute_result"
    },
    {
     "data": {
      "image/png": "[encoded data removed]",
      "text/plain": [
       "<matplotlib.figure.Figure at 0x1114dd780>"
      ]
     },
     "metadata": {},
     "output_type": "display_data"
    }
   ],
   "source": [
    "# print the fit vs the true model\n",
    "plt.plot (x_data_o, y_data_o, label=\"original\")\n",
    "plt.plot (x_data_o, x_data*weights[0]+bias[0], label=\"fit\")\n",
    "plt.legend(bbox_to_anchor=(1, 1), loc=2, borderaxespad=0.)"
   ]
  },
  {
   "cell_type": "code",
   "execution_count": null,
   "metadata": {
    "collapsed": true
   },
   "outputs": [],
   "source": []
  }
 ],
 "metadata": {
  "anaconda-cloud": {},
  "kernelspec": {
   "display_name": "Python 3",
   "language": "python",
   "name": "python3"
  },
  "language_info": {
   "codemirror_mode": {
    "name": "ipython",
    "version": 3
   },
   "file_extension": ".py",
   "mimetype": "text/x-python",
   "name": "python",
   "nbconvert_exporter": "python",
   "pygments_lexer": "ipython3",
   "version": "3.5.3"
  }
 },
 "nbformat": 4,
 "nbformat_minor": 1
}
