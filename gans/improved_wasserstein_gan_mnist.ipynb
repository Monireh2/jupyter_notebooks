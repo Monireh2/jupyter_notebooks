{
 "cells": [
  {
   "cell_type": "code",
   "execution_count": 30,
   "metadata": {},
   "outputs": [],
   "source": [
    "import numpy as np\n",
    "import os.path\n",
    "\n",
    "import numpy as np\n",
    "import matplotlib.pyplot as plt\n",
    "import tensorflow as tf\n",
    "from tensorflow.contrib import layers\n",
    "from tqdm import tqdm"
   ]
  },
  {
   "cell_type": "code",
   "execution_count": 2,
   "metadata": {},
   "outputs": [
    {
     "name": "stdout",
     "output_type": "stream",
     "text": [
      "Extracting mnist_data/train-images-idx3-ubyte.gz\n",
      "Extracting mnist_data/train-labels-idx1-ubyte.gz\n",
      "Extracting mnist_data/t10k-images-idx3-ubyte.gz\n",
      "Extracting mnist_data/t10k-labels-idx1-ubyte.gz\n"
     ]
    }
   ],
   "source": [
    "from tensorflow.examples.tutorials.mnist import input_data\n",
    "data_dir=\"mnist_data\"\n",
    "data = input_data.read_data_sets(data_dir, one_hot=True)"
   ]
  },
  {
   "cell_type": "code",
   "execution_count": 3,
   "metadata": {},
   "outputs": [],
   "source": [
    "def leaky_relu(x, alpha=.2):\n",
    "    with tf.name_scope(\"leaky_relu\"):\n",
    "        return tf.maximum(alpha*x, x)"
   ]
  },
  {
   "cell_type": "code",
   "execution_count": 4,
   "metadata": {},
   "outputs": [],
   "source": [
    "DIM=64"
   ]
  },
  {
   "cell_type": "code",
   "execution_count": 5,
   "metadata": {},
   "outputs": [],
   "source": [
    "def generator(z, mode=\"wgan\", reuse=False):\n",
    "    # noise is [batchsize X 128] in original paper\n",
    "    with tf.variable_scope('generator', reuse=reuse):\n",
    "        z = layers.fully_connected(z, num_outputs=DIM*4*4*4, activation_fn=tf.nn.relu)\n",
    "        z = tf.reshape(z, [-1, 4, 4, 4*DIM]) # NHWC so channels in last layer\n",
    "\n",
    "        z = layers.conv2d_transpose(z, num_outputs=2*DIM, kernel_size=5, \n",
    "                                    stride=2, activation_fn=tf.nn.relu)\n",
    "        \n",
    "        z = layers.conv2d_transpose(z, num_outputs=DIM, kernel_size=5, \n",
    "                                    stride=2, activation_fn=tf.nn.relu)\n",
    "        \n",
    "        z = layers.conv2d_transpose(z, num_outputs=1, kernel_size=5, \n",
    "                                    stride=2, activation_fn=tf.nn.sigmoid)\n",
    "        z = z[:, 2:-2, 2:-2, :] # need to cut off for boundaries\n",
    "        return z\n"
   ]
  },
  {
   "cell_type": "code",
   "execution_count": 6,
   "metadata": {},
   "outputs": [],
   "source": [
    "def discriminator(x, reuse=False):\n",
    "    with tf.variable_scope('discriminator', reuse=reuse):\n",
    "        x = layers.conv2d(x, num_outputs=DIM, kernel_size=5, stride=2,\n",
    "                          activation_fn=leaky_relu)\n",
    "        x = layers.conv2d(x, num_outputs=2*DIM, kernel_size=5, stride=2,\n",
    "                          activation_fn=leaky_relu)\n",
    "        x = layers.conv2d(x, num_outputs=4*DIM, kernel_size=5, stride=2,\n",
    "                          activation_fn=leaky_relu)\n",
    "\n",
    "        x = layers.flatten(x)\n",
    "        return layers.fully_connected(x, num_outputs=1, activation_fn=None)\n"
   ]
  },
  {
   "cell_type": "code",
   "execution_count": 14,
   "metadata": {},
   "outputs": [],
   "source": [
    "def build_graph(batchsize, seed=1234):\n",
    "    with tf.name_scope('placeholders'):\n",
    "        x_true = tf.placeholder(tf.float32, [batchsize, 28, 28, 1])\n",
    "    \n",
    "    z = tf.random_normal(shape=[batchsize, 128], seed=seed)\n",
    "    x_generated = generator(z)\n",
    "    y_true = discriminator(x_true, reuse=False)\n",
    "    y_generated = discriminator(x_generated, reuse=True)\n",
    "\n",
    "    with tf.name_scope('gradient-penalty'):\n",
    "        alpha = tf.random_uniform([batchsize, 1], minval=0.0, maxval=1.0)\n",
    "        differences = x_generated - x_true\n",
    "        interpolates = x_true + alpha[:,None, None]*differences\n",
    "        gradients = tf.gradients(discriminator(interpolates, reuse=True), [interpolates])[0]\n",
    "        slopes = tf.sqrt(tf.reduce_sum(tf.square(gradients), reduction_indices=[1]))\n",
    "        gradient_penalty = tf.reduce_mean((slopes-1.)**2)\n",
    "    with tf.name_scope('loss'):\n",
    "        g_loss = tf.reduce_mean(y_generated)\n",
    "        d_loss = (tf.reduce_mean(x_true) - tf.reduce_mean(x_generated)) + \\\n",
    "            10 * gradient_penalty\n",
    "\n",
    "    return x_true, x_generated, g_loss, d_loss\n",
    "\n",
    "tf.reset_default_graph()\n",
    "x_true, x_generated, g_loss, d_loss = build_graph(50)"
   ]
  },
  {
   "cell_type": "code",
   "execution_count": 15,
   "metadata": {},
   "outputs": [],
   "source": [
    "with tf.name_scope('optimizer'):\n",
    "    optimizer = tf.train.AdamOptimizer(learning_rate=1e-4, beta1=0.5, beta2=0.9)\n",
    "\n",
    "    g_vars = tf.get_collection(tf.GraphKeys.GLOBAL_VARIABLES, scope='generator')\n",
    "    g_train = optimizer.minimize(g_loss, var_list=g_vars)\n",
    "    d_vars = tf.get_collection(tf.GraphKeys.GLOBAL_VARIABLES, scope='discriminator')\n",
    "    d_train = optimizer.minimize(d_loss, var_list=d_vars)"
   ]
  },
  {
   "cell_type": "code",
   "execution_count": 28,
   "metadata": {},
   "outputs": [
    {
     "name": "stdout",
     "output_type": "stream",
     "text": [
      "1100\n"
     ]
    }
   ],
   "source": [
    "npoints=len(data.train.images)\n",
    "batchsize=50\n",
    "batches= npoints//batchsize"
   ]
  },
  {
   "cell_type": "code",
   "execution_count": null,
   "metadata": {},
   "outputs": [
    {
     "name": "stdout",
     "output_type": "stream",
     "text": [
      "iter=0/20000\n"
     ]
    },
    {
     "data": {
      "image/png": "[encoded data removed]",
      "text/plain": [
       "<matplotlib.figure.Figure at 0x120213a20>"
      ]
     },
     "metadata": {},
     "output_type": "display_data"
    }
   ],
   "source": [
    "with tf.Session() as sess:\n",
    "    tf.global_variables_initializer().run()\n",
    "\n",
    "    print('iter={}/20000'.format(0))\n",
    "    generated = x_generated.eval().squeeze()\n",
    "    plt.figure('results')\n",
    "    plt.imshow(generated[0], clim=[0, 1], cmap='bone')\n",
    "    plt.show()\n",
    "    for e in range(100):\n",
    "        for i in range(batches):\n",
    "            batch = data.train.next_batch(50)\n",
    "            images = batch[0].reshape([-1, 28, 28, 1])\n",
    "\n",
    "            sess.run(g_train)\n",
    "\n",
    "            for j in range(5):\n",
    "                sess.run(d_train, feed_dict={x_true: images})\n",
    "\n",
    "        print('iter={}/{}'.format(e, batches))\n",
    "        generated = x_generated.eval().squeeze()\n",
    "        plt.figure('results')\n",
    "        plt.imshow(generated[0], clim=[0, 1], cmap='bone')\n",
    "        plt.show()"
   ]
  },
  {
   "cell_type": "code",
   "execution_count": null,
   "metadata": {},
   "outputs": [],
   "source": []
  }
 ],
 "metadata": {
  "kernelspec": {
   "display_name": "Python 3",
   "language": "python",
   "name": "python3"
  },
  "language_info": {
   "codemirror_mode": {
    "name": "ipython",
    "version": 3
   },
   "file_extension": ".py",
   "mimetype": "text/x-python",
   "name": "python",
   "nbconvert_exporter": "python",
   "pygments_lexer": "ipython3",
   "version": "3.5.4"
  }
 },
 "nbformat": 4,
 "nbformat_minor": 2
}
